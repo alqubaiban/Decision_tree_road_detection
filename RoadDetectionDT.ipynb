{
 "cells": [
  {
   "cell_type": "markdown",
   "metadata": {},
   "source": [
    "Import necessary libraries"
   ]
  },
  {
   "cell_type": "code",
   "execution_count": 1,
   "metadata": {},
   "outputs": [],
   "source": [
    "import pandas as pd\n",
    "import numpy as np\n",
    "from PIL import Image\n",
    "\n",
    "from sklearn import tree\n",
    "from sklearn.tree import DecisionTreeClassifier, export_graphviz\n",
    "from sklearn.model_selection import train_test_split\n",
    "from matplotlib import pyplot as plt\n",
    "import seaborn as sns\n",
    "\n",
    "import graphviz\n",
    "import pydotplus\n",
    "import io\n",
    "from scipy import misc\n",
    "\n",
    "%matplotlib inline\n"
   ]
  },
  {
   "cell_type": "markdown",
   "metadata": {},
   "source": [
    "Creat load_images and test it"
   ]
  },
  {
   "cell_type": "code",
   "execution_count": 2,
   "metadata": {},
   "outputs": [
    {
     "name": "stdout",
     "output_type": "stream",
     "text": [
      "Dimensions:  (64, 80)\n"
     ]
    },
    {
     "data": {
      "image/png": "[encoded data removed]",
      "text/plain": [
       "<Figure size 432x288 with 1 Axes>"
      ]
     },
     "metadata": {
      "needs_background": "light"
     },
     "output_type": "display_data"
    }
   ],
   "source": [
    "# Load and resize image\n",
    "def load_image(filepath: str) -> np.ndarray:\n",
    "    im: Image.Image = Image.open(filepath)\n",
    "    (width, height) = (im.width // 4, im.height // 4)\n",
    "    im_resized = im.resize((width, height))\n",
    "    return np.array(im_resized)\n",
    "\n",
    "im = load_image('img1737_m.png')\n",
    "print('Dimensions: ', im.shape)\n",
    "plt.imshow(im)\n",
    "plt.show()"
   ]
  },
  {
   "cell_type": "markdown",
   "metadata": {},
   "source": [
    "Creat an array that has all the maps"
   ]
  },
  {
   "cell_type": "code",
   "execution_count": 3,
   "metadata": {},
   "outputs": [
    {
     "name": "stderr",
     "output_type": "stream",
     "text": [
      "100%|██████████| 3601/3601 [00:01<00:00, 3328.19it/s]\n"
     ]
    }
   ],
   "source": [
    "import glob\n",
    "from tqdm import tqdm\n",
    "image_names = glob.glob('img*.png')\n",
    "image_mats = []\n",
    "\n",
    "\n",
    "for image in tqdm(image_names):\n",
    "    im = load_image(image)\n",
    "    image_mats.append(im)\n",
    "\n"
   ]
  },
  {
   "cell_type": "code",
   "execution_count": 4,
   "metadata": {},
   "outputs": [],
   "source": [
    "image_array = np.array(image_mats)\n",
    "image_array_flat = np.zeros((3601,64*80))"
   ]
  },
  {
   "cell_type": "code",
   "execution_count": 5,
   "metadata": {},
   "outputs": [],
   "source": [
    "bucket_array = image_array[0].reshape(-1,1)\n",
    "image_array_flat[0] = bucket_array.T\n",
    "\n",
    "for i in range(3601):\n",
    "    bucket_array = image_array[i].reshape(-1,1)\n",
    "    image_array_flat[i] = bucket_array.T\n",
    "    \n",
    " "
   ]
  },
  {
   "cell_type": "code",
   "execution_count": 6,
   "metadata": {},
   "outputs": [
    {
     "data": {
      "text/plain": [
       "(3601, 64, 80)"
      ]
     },
     "execution_count": 6,
     "metadata": {},
     "output_type": "execute_result"
    }
   ],
   "source": [
    "image_array.shape"
   ]
  },
  {
   "cell_type": "code",
   "execution_count": 7,
   "metadata": {},
   "outputs": [],
   "source": [
    "from numpy import genfromtxt\n",
    "labels = genfromtxt('turn_labels2.csv', delimiter=',')"
   ]
  },
  {
   "cell_type": "code",
   "execution_count": 8,
   "metadata": {},
   "outputs": [],
   "source": [
    "labels = labels.reshape((-1,1))"
   ]
  },
  {
   "cell_type": "markdown",
   "metadata": {},
   "source": [
    "Create the decision tree"
   ]
  },
  {
   "cell_type": "code",
   "execution_count": 9,
   "metadata": {},
   "outputs": [],
   "source": [
    "c = DecisionTreeClassifier(min_samples_split = 30)\n"
   ]
  },
  {
   "cell_type": "code",
   "execution_count": 10,
   "metadata": {},
   "outputs": [],
   "source": [
    "train, test = train_test_split(image_array_flat, test_size = 0.15)"
   ]
  },
  {
   "cell_type": "code",
   "execution_count": 11,
   "metadata": {},
   "outputs": [],
   "source": [
    "ltrain, ltest = train_test_split(labels, test_size = 0.15)"
   ]
  },
  {
   "cell_type": "code",
   "execution_count": 12,
   "metadata": {},
   "outputs": [],
   "source": [
    "dt = c.fit(train, ltrain)"
   ]
  },
  {
   "cell_type": "code",
   "execution_count": 13,
   "metadata": {},
   "outputs": [],
   "source": [
    "def show_tree(tree, features, path):\n",
    "    f = io.StringIO()\n",
    "    export_graphviz(tree, out_file = f, feature_names  = features)\n",
    "    pydotplus.graph_from_dot_data(f.getvalue()).write_png(path)\n",
    "    img = plt.imread(path)\n",
    "    plt.rcParams[\"figure.figsize\"] = (20,20)\n",
    "    plt.imshow(img)\n",
    "    "
   ]
  },
  {
   "cell_type": "code",
   "execution_count": 14,
   "metadata": {},
   "outputs": [],
   "source": [
    "lpred = c.predict(test)"
   ]
  },
  {
   "cell_type": "code",
   "execution_count": 15,
   "metadata": {},
   "outputs": [
    {
     "data": {
      "text/plain": [
       "array([ 1.,  1., -1., -1., -1.,  0.,  0., -1., -1.,  0.,  0.,  0.,  0.,\n",
       "        0., -1.,  0., -1., -1.,  0.,  0., -1.,  1., -1.,  0.,  0., -1.,\n",
       "       -1.,  0.,  0., -1., -1.,  0.,  0., -1.,  1.,  0.,  1., -1.,  0.,\n",
       "        1.,  1.,  0.,  0.,  0., -1.,  1.,  0.,  1.,  0., -1.,  0., -1.,\n",
       "        0., -1., -1.,  0.,  1., -1.,  0., -1.,  0., -1.,  0., -1.,  0.,\n",
       "        0.,  0.,  0., -1., -1.,  0.,  1.,  0., -1.,  0.,  0.,  1., -1.,\n",
       "       -1., -1.,  0., -1., -1., -1.,  0., -1.,  1., -1.,  0.,  1., -1.,\n",
       "       -1.,  0., -1., -1., -1.,  1.,  0.,  1., -1.,  0.,  0., -1.,  0.,\n",
       "        0.,  0.,  1., -1., -1., -1., -1., -1.,  0.,  1., -1.,  0., -1.,\n",
       "       -1., -1., -1.,  0., -1.,  0., -1., -1.,  0.,  0.,  0.,  0.,  0.,\n",
       "        1.,  0.,  0., -1., -1., -1.,  0., -1., -1., -1.,  1.,  0.,  0.,\n",
       "       -1.,  0.,  0.,  0.,  1., -1., -1., -1., -1.,  0.,  0.,  1., -1.,\n",
       "        0.,  1., -1.,  0.,  1.,  0.,  0., -1., -1.,  0.,  0.,  0.,  0.,\n",
       "       -1.,  0., -1.,  0.,  0.,  0.,  0., -1.,  0.,  0., -1.,  0., -1.,\n",
       "       -1., -1.,  1., -1., -1.,  0.,  0.,  0.,  0.,  0.,  0., -1.,  0.,\n",
       "        1.,  1.,  0., -1.,  0.,  0., -1.,  0.,  0.,  0., -1., -1., -1.,\n",
       "       -1.,  0., -1., -1.,  0., -1.,  0.,  0.,  0.,  0.,  1., -1., -1.,\n",
       "       -1., -1.,  0.,  0., -1.,  0., -1.,  0., -1.,  0., -1., -1.,  1.,\n",
       "        0., -1., -1.,  1.,  1.,  0., -1.,  0.,  1.,  0.,  1.,  1., -1.,\n",
       "       -1.,  0., -1., -1.,  0.,  0., -1., -1., -1., -1., -1.,  0.,  0.,\n",
       "        0., -1.,  0.,  0.,  0.,  0., -1., -1., -1.,  0.,  0.,  0.,  1.,\n",
       "        0.,  0., -1., -1.,  0.,  0.,  0.,  0., -1., -1.,  0., -1.,  1.,\n",
       "        0.,  0.,  0., -1.,  0., -1., -1., -1.,  0.,  0.,  0.,  0., -1.,\n",
       "       -1.,  0., -1.,  0.,  1.,  1.,  0.,  0.,  0., -1.,  0.,  0., -1.,\n",
       "        1.,  0., -1.,  0.,  1., -1.,  1.,  0.,  0.,  0.,  0.,  0.,  0.,\n",
       "        1.,  0.,  0.,  1.,  1., -1., -1.,  0., -1.,  0., -1.,  0., -1.,\n",
       "        0., -1.,  0.,  0.,  1.,  0.,  1.,  0., -1.,  0.,  0.,  0., -1.,\n",
       "       -1.,  1.,  0.,  0., -1.,  1., -1.,  0.,  0., -1.,  1.,  0.,  0.,\n",
       "        1.,  0.,  1.,  0., -1.,  1.,  0.,  1.,  0., -1.,  0., -1., -1.,\n",
       "       -1.,  1., -1., -1.,  0.,  0., -1., -1.,  0.,  0., -1.,  0., -1.,\n",
       "       -1., -1.,  0.,  0., -1.,  0., -1., -1.,  0., -1.,  0.,  0., -1.,\n",
       "        1., -1., -1.,  0.,  0., -1.,  0., -1., -1.,  0.,  0.,  0.,  0.,\n",
       "       -1.,  0., -1., -1., -1., -1.,  0., -1.,  0., -1.,  0., -1.,  0.,\n",
       "       -1.,  1., -1., -1.,  0.,  0., -1.,  0.,  0., -1.,  0.,  0., -1.,\n",
       "        0.,  0., -1.,  0.,  0.,  0., -1.,  0.,  1.,  0., -1.,  0.,  0.,\n",
       "       -1., -1., -1.,  1.,  1.,  0., -1.,  0., -1.,  0.,  0.,  1.,  0.,\n",
       "       -1.,  0., -1.,  0.,  0.,  0.,  0.,  0.,  0., -1.,  0.,  0., -1.,\n",
       "        1.,  0., -1.,  0., -1.,  0., -1., -1., -1.,  0., -1.,  0., -1.,\n",
       "        1.,  0., -1.,  1.,  0.,  0., -1.,  1., -1., -1.,  1., -1., -1.,\n",
       "       -1.,  0., -1.,  0.,  0., -1.,  0.,  0.,  0.,  0., -1.,  1.,  0.,\n",
       "        1., -1., -1., -1., -1., -1.,  0.,  0.,  0., -1., -1.,  0.,  0.,\n",
       "       -1., -1., -1., -1.,  0., -1.,  1.,  0.])"
      ]
     },
     "execution_count": 15,
     "metadata": {},
     "output_type": "execute_result"
    }
   ],
   "source": [
    "lpred"
   ]
  },
  {
   "cell_type": "code",
   "execution_count": 16,
   "metadata": {},
   "outputs": [],
   "source": [
    "from sklearn.metrics import accuracy_score\n",
    "\n",
    "score = accuracy_score(ltest, lpred)*100"
   ]
  },
  {
   "cell_type": "raw",
   "metadata": {},
   "source": [
    "score"
   ]
  },
  {
   "cell_type": "code",
   "execution_count": 17,
   "metadata": {},
   "outputs": [
    {
     "data": {
      "text/plain": [
       "39.186691312384475"
      ]
     },
     "execution_count": 17,
     "metadata": {},
     "output_type": "execute_result"
    }
   ],
   "source": [
    "score"
   ]
  },
  {
   "cell_type": "code",
   "execution_count": null,
   "metadata": {},
   "outputs": [],
   "source": []
  }
 ],
 "metadata": {
  "kernelspec": {
   "display_name": "Python 3",
   "language": "python",
   "name": "python3"
  },
  "language_info": {
   "codemirror_mode": {
    "name": "ipython",
    "version": 3
   },
   "file_extension": ".py",
   "mimetype": "text/x-python",
   "name": "python",
   "nbconvert_exporter": "python",
   "pygments_lexer": "ipython3",
   "version": "3.7.4"
  }
 },
 "nbformat": 4,
 "nbformat_minor": 2
}
